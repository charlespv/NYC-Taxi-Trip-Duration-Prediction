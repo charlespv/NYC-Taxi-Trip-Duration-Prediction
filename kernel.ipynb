{
  "cells": [
    {
      "metadata": {
        "_uuid": "a6f00311b3f7c077d0b7a8d7bcd8c0a907f09058"
      },
      "cell_type": "markdown",
      "source": "# Prediction project - Charles PAULAS VICTOR"
    },
    {
      "metadata": {
        "_uuid": "8b1094ca7ff10c8f442e81bb9686f06ea330f964"
      },
      "cell_type": "markdown",
      "source": "# 1. Data loading"
    },
    {
      "metadata": {
        "_uuid": "da39bc838dd3c26007049fec57f2c38b0fede097"
      },
      "cell_type": "markdown",
      "source": "### Import library"
    },
    {
      "metadata": {
        "_uuid": "8f2839f25d086af736a60e9eeb907d3b93b6e0e5",
        "_cell_guid": "b1076dfc-b9ad-4769-8c92-a6c4dae69d19",
        "trusted": true
      },
      "cell_type": "code",
      "source": "import numpy as np # linear algebra\nimport pandas as pd # data processing, CSV file I/O (e.g. pd.read_csv)\n\nimport seaborn as sns\nimport matplotlib.pyplot as plt\n%matplotlib inline\n\n# Input data files are available in the \"../input/\" directory.\n# For example, running this (by clicking run or pressing Shift+Enter) will list the files in the input directory\n\nimport os\nprint(os.listdir(\"../input\"))\n\n# Any results you write to the current directory are saved as output.",
      "execution_count": 35,
      "outputs": [
        {
          "output_type": "stream",
          "text": "['test', 'sample_submission', 'sample_submission.csv', 'test.csv', 'train.csv', 'train']\n",
          "name": "stdout"
        }
      ]
    },
    {
      "metadata": {
        "trusted": true,
        "_uuid": "bcbd6221d5d7ed8aafb19f43bd925189dc0de487"
      },
      "cell_type": "code",
      "source": "# ML libraries\nfrom sklearn.ensemble import RandomForestRegressor\nfrom sklearn.model_selection import cross_val_score\nfrom sklearn.preprocessing import LabelEncoder\nfrom sklearn.preprocessing import StandardScaler",
      "execution_count": 36,
      "outputs": []
    },
    {
      "metadata": {
        "_uuid": "b8bb568b747a6ae6bf065bb464439460ecee838c"
      },
      "cell_type": "markdown",
      "source": "### Import dataset"
    },
    {
      "metadata": {
        "_cell_guid": "79c7e3d0-c299-4dcb-8224-4455121ee9b0",
        "_uuid": "d629ff2d2480ee46fbb7e2d37f6b5fab8052498a",
        "trusted": true
      },
      "cell_type": "code",
      "source": "train = pd.read_csv(\"../input/train.csv\")\ntest = pd.read_csv(\"../input/test.csv\")\n\nprint(f\"training set shape : {train.shape}\")\nprint(f\"testing set shape : {test.shape}\")",
      "execution_count": 37,
      "outputs": [
        {
          "output_type": "stream",
          "text": "training set shape : (1458644, 11)\ntesting set shape : (625134, 9)\n",
          "name": "stdout"
        }
      ]
    },
    {
      "metadata": {
        "_uuid": "1e0a2dcd41309ed0141b11e5b664bdd2d5cf85a2"
      },
      "cell_type": "markdown",
      "source": "## 2. Data exploration"
    },
    {
      "metadata": {
        "trusted": true,
        "_uuid": "0ead3bad626c4b646aacb386b0b7696b179137d4",
        "scrolled": true
      },
      "cell_type": "code",
      "source": "train.head(5)",
      "execution_count": 38,
      "outputs": [
        {
          "output_type": "execute_result",
          "execution_count": 38,
          "data": {
            "text/plain": "          id  vendor_id      ...      store_and_fwd_flag trip_duration\n0  id2875421          2      ...                       N           455\n1  id2377394          1      ...                       N           663\n2  id3858529          2      ...                       N          2124\n3  id3504673          2      ...                       N           429\n4  id2181028          2      ...                       N           435\n\n[5 rows x 11 columns]",
            "text/html": "<div>\n<style scoped>\n    .dataframe tbody tr th:only-of-type {\n        vertical-align: middle;\n    }\n\n    .dataframe tbody tr th {\n        vertical-align: top;\n    }\n\n    .dataframe thead th {\n        text-align: right;\n    }\n</style>\n<table border=\"1\" class=\"dataframe\">\n  <thead>\n    <tr style=\"text-align: right;\">\n      <th></th>\n      <th>id</th>\n      <th>vendor_id</th>\n      <th>pickup_datetime</th>\n      <th>dropoff_datetime</th>\n      <th>passenger_count</th>\n      <th>pickup_longitude</th>\n      <th>pickup_latitude</th>\n      <th>dropoff_longitude</th>\n      <th>dropoff_latitude</th>\n      <th>store_and_fwd_flag</th>\n      <th>trip_duration</th>\n    </tr>\n  </thead>\n  <tbody>\n    <tr>\n      <th>0</th>\n      <td>id2875421</td>\n      <td>2</td>\n      <td>2016-03-14 17:24:55</td>\n      <td>2016-03-14 17:32:30</td>\n      <td>1</td>\n      <td>-73.982155</td>\n      <td>40.767937</td>\n      <td>-73.964630</td>\n      <td>40.765602</td>\n      <td>N</td>\n      <td>455</td>\n    </tr>\n    <tr>\n      <th>1</th>\n      <td>id2377394</td>\n      <td>1</td>\n      <td>2016-06-12 00:43:35</td>\n      <td>2016-06-12 00:54:38</td>\n      <td>1</td>\n      <td>-73.980415</td>\n      <td>40.738564</td>\n      <td>-73.999481</td>\n      <td>40.731152</td>\n      <td>N</td>\n      <td>663</td>\n    </tr>\n    <tr>\n      <th>2</th>\n      <td>id3858529</td>\n      <td>2</td>\n      <td>2016-01-19 11:35:24</td>\n      <td>2016-01-19 12:10:48</td>\n      <td>1</td>\n      <td>-73.979027</td>\n      <td>40.763939</td>\n      <td>-74.005333</td>\n      <td>40.710087</td>\n      <td>N</td>\n      <td>2124</td>\n    </tr>\n    <tr>\n      <th>3</th>\n      <td>id3504673</td>\n      <td>2</td>\n      <td>2016-04-06 19:32:31</td>\n      <td>2016-04-06 19:39:40</td>\n      <td>1</td>\n      <td>-74.010040</td>\n      <td>40.719971</td>\n      <td>-74.012268</td>\n      <td>40.706718</td>\n      <td>N</td>\n      <td>429</td>\n    </tr>\n    <tr>\n      <th>4</th>\n      <td>id2181028</td>\n      <td>2</td>\n      <td>2016-03-26 13:30:55</td>\n      <td>2016-03-26 13:38:10</td>\n      <td>1</td>\n      <td>-73.973053</td>\n      <td>40.793209</td>\n      <td>-73.972923</td>\n      <td>40.782520</td>\n      <td>N</td>\n      <td>435</td>\n    </tr>\n  </tbody>\n</table>\n</div>"
          },
          "metadata": {}
        }
      ]
    },
    {
      "metadata": {
        "trusted": true,
        "_uuid": "fc8dae7d4888095f083aa74f87b97db8902d8e3a"
      },
      "cell_type": "code",
      "source": "test.head(5)",
      "execution_count": 39,
      "outputs": [
        {
          "output_type": "execute_result",
          "execution_count": 39,
          "data": {
            "text/plain": "          id  vendor_id         ...         dropoff_latitude  store_and_fwd_flag\n0  id3004672          1         ...                40.756680                   N\n1  id3505355          1         ...                40.655403                   N\n2  id1217141          1         ...                40.729523                   N\n3  id2150126          2         ...                40.730469                   N\n4  id1598245          1         ...                40.755890                   N\n\n[5 rows x 9 columns]",
            "text/html": "<div>\n<style scoped>\n    .dataframe tbody tr th:only-of-type {\n        vertical-align: middle;\n    }\n\n    .dataframe tbody tr th {\n        vertical-align: top;\n    }\n\n    .dataframe thead th {\n        text-align: right;\n    }\n</style>\n<table border=\"1\" class=\"dataframe\">\n  <thead>\n    <tr style=\"text-align: right;\">\n      <th></th>\n      <th>id</th>\n      <th>vendor_id</th>\n      <th>pickup_datetime</th>\n      <th>passenger_count</th>\n      <th>pickup_longitude</th>\n      <th>pickup_latitude</th>\n      <th>dropoff_longitude</th>\n      <th>dropoff_latitude</th>\n      <th>store_and_fwd_flag</th>\n    </tr>\n  </thead>\n  <tbody>\n    <tr>\n      <th>0</th>\n      <td>id3004672</td>\n      <td>1</td>\n      <td>2016-06-30 23:59:58</td>\n      <td>1</td>\n      <td>-73.988129</td>\n      <td>40.732029</td>\n      <td>-73.990173</td>\n      <td>40.756680</td>\n      <td>N</td>\n    </tr>\n    <tr>\n      <th>1</th>\n      <td>id3505355</td>\n      <td>1</td>\n      <td>2016-06-30 23:59:53</td>\n      <td>1</td>\n      <td>-73.964203</td>\n      <td>40.679993</td>\n      <td>-73.959808</td>\n      <td>40.655403</td>\n      <td>N</td>\n    </tr>\n    <tr>\n      <th>2</th>\n      <td>id1217141</td>\n      <td>1</td>\n      <td>2016-06-30 23:59:47</td>\n      <td>1</td>\n      <td>-73.997437</td>\n      <td>40.737583</td>\n      <td>-73.986160</td>\n      <td>40.729523</td>\n      <td>N</td>\n    </tr>\n    <tr>\n      <th>3</th>\n      <td>id2150126</td>\n      <td>2</td>\n      <td>2016-06-30 23:59:41</td>\n      <td>1</td>\n      <td>-73.956070</td>\n      <td>40.771900</td>\n      <td>-73.986427</td>\n      <td>40.730469</td>\n      <td>N</td>\n    </tr>\n    <tr>\n      <th>4</th>\n      <td>id1598245</td>\n      <td>1</td>\n      <td>2016-06-30 23:59:33</td>\n      <td>1</td>\n      <td>-73.970215</td>\n      <td>40.761475</td>\n      <td>-73.961510</td>\n      <td>40.755890</td>\n      <td>N</td>\n    </tr>\n  </tbody>\n</table>\n</div>"
          },
          "metadata": {}
        }
      ]
    },
    {
      "metadata": {
        "trusted": true,
        "_uuid": "319079ef79845bfcc63f2e814c43bf1246477462",
        "scrolled": true
      },
      "cell_type": "code",
      "source": "train.info()",
      "execution_count": 40,
      "outputs": [
        {
          "output_type": "stream",
          "text": "<class 'pandas.core.frame.DataFrame'>\nRangeIndex: 1458644 entries, 0 to 1458643\nData columns (total 11 columns):\nid                    1458644 non-null object\nvendor_id             1458644 non-null int64\npickup_datetime       1458644 non-null object\ndropoff_datetime      1458644 non-null object\npassenger_count       1458644 non-null int64\npickup_longitude      1458644 non-null float64\npickup_latitude       1458644 non-null float64\ndropoff_longitude     1458644 non-null float64\ndropoff_latitude      1458644 non-null float64\nstore_and_fwd_flag    1458644 non-null object\ntrip_duration         1458644 non-null int64\ndtypes: float64(4), int64(3), object(4)\nmemory usage: 122.4+ MB\n",
          "name": "stdout"
        }
      ]
    },
    {
      "metadata": {
        "trusted": true,
        "_uuid": "f62df4a7490cb6961f5cbb1fb995ad5fda2f24bd"
      },
      "cell_type": "code",
      "source": "train.isna().sum()",
      "execution_count": 41,
      "outputs": [
        {
          "output_type": "execute_result",
          "execution_count": 41,
          "data": {
            "text/plain": "id                    0\nvendor_id             0\npickup_datetime       0\ndropoff_datetime      0\npassenger_count       0\npickup_longitude      0\npickup_latitude       0\ndropoff_longitude     0\ndropoff_latitude      0\nstore_and_fwd_flag    0\ntrip_duration         0\ndtype: int64"
          },
          "metadata": {}
        }
      ]
    },
    {
      "metadata": {
        "_uuid": "5b60853b678b15a936c58234d7dda444513ac1b7"
      },
      "cell_type": "markdown",
      "source": "## 3. Data processing"
    },
    {
      "metadata": {
        "_uuid": "97c81da061cd6e9c9716205be0e345c702a74034"
      },
      "cell_type": "markdown",
      "source": "### Outliers"
    },
    {
      "metadata": {
        "trusted": true,
        "scrolled": true,
        "_uuid": "fb53197dd5255a9c618295e95accb3f962e32d2e"
      },
      "cell_type": "code",
      "source": "train.describe()",
      "execution_count": 42,
      "outputs": [
        {
          "output_type": "execute_result",
          "execution_count": 42,
          "data": {
            "text/plain": "          vendor_id      ...        trip_duration\ncount  1.458644e+06      ...         1.458644e+06\nmean   1.534950e+00      ...         9.594923e+02\nstd    4.987772e-01      ...         5.237432e+03\nmin    1.000000e+00      ...         1.000000e+00\n25%    1.000000e+00      ...         3.970000e+02\n50%    2.000000e+00      ...         6.620000e+02\n75%    2.000000e+00      ...         1.075000e+03\nmax    2.000000e+00      ...         3.526282e+06\n\n[8 rows x 7 columns]",
            "text/html": "<div>\n<style scoped>\n    .dataframe tbody tr th:only-of-type {\n        vertical-align: middle;\n    }\n\n    .dataframe tbody tr th {\n        vertical-align: top;\n    }\n\n    .dataframe thead th {\n        text-align: right;\n    }\n</style>\n<table border=\"1\" class=\"dataframe\">\n  <thead>\n    <tr style=\"text-align: right;\">\n      <th></th>\n      <th>vendor_id</th>\n      <th>passenger_count</th>\n      <th>pickup_longitude</th>\n      <th>pickup_latitude</th>\n      <th>dropoff_longitude</th>\n      <th>dropoff_latitude</th>\n      <th>trip_duration</th>\n    </tr>\n  </thead>\n  <tbody>\n    <tr>\n      <th>count</th>\n      <td>1.458644e+06</td>\n      <td>1.458644e+06</td>\n      <td>1.458644e+06</td>\n      <td>1.458644e+06</td>\n      <td>1.458644e+06</td>\n      <td>1.458644e+06</td>\n      <td>1.458644e+06</td>\n    </tr>\n    <tr>\n      <th>mean</th>\n      <td>1.534950e+00</td>\n      <td>1.664530e+00</td>\n      <td>-7.397349e+01</td>\n      <td>4.075092e+01</td>\n      <td>-7.397342e+01</td>\n      <td>4.075180e+01</td>\n      <td>9.594923e+02</td>\n    </tr>\n    <tr>\n      <th>std</th>\n      <td>4.987772e-01</td>\n      <td>1.314242e+00</td>\n      <td>7.090186e-02</td>\n      <td>3.288119e-02</td>\n      <td>7.064327e-02</td>\n      <td>3.589056e-02</td>\n      <td>5.237432e+03</td>\n    </tr>\n    <tr>\n      <th>min</th>\n      <td>1.000000e+00</td>\n      <td>0.000000e+00</td>\n      <td>-1.219333e+02</td>\n      <td>3.435970e+01</td>\n      <td>-1.219333e+02</td>\n      <td>3.218114e+01</td>\n      <td>1.000000e+00</td>\n    </tr>\n    <tr>\n      <th>25%</th>\n      <td>1.000000e+00</td>\n      <td>1.000000e+00</td>\n      <td>-7.399187e+01</td>\n      <td>4.073735e+01</td>\n      <td>-7.399133e+01</td>\n      <td>4.073588e+01</td>\n      <td>3.970000e+02</td>\n    </tr>\n    <tr>\n      <th>50%</th>\n      <td>2.000000e+00</td>\n      <td>1.000000e+00</td>\n      <td>-7.398174e+01</td>\n      <td>4.075410e+01</td>\n      <td>-7.397975e+01</td>\n      <td>4.075452e+01</td>\n      <td>6.620000e+02</td>\n    </tr>\n    <tr>\n      <th>75%</th>\n      <td>2.000000e+00</td>\n      <td>2.000000e+00</td>\n      <td>-7.396733e+01</td>\n      <td>4.076836e+01</td>\n      <td>-7.396301e+01</td>\n      <td>4.076981e+01</td>\n      <td>1.075000e+03</td>\n    </tr>\n    <tr>\n      <th>max</th>\n      <td>2.000000e+00</td>\n      <td>9.000000e+00</td>\n      <td>-6.133553e+01</td>\n      <td>5.188108e+01</td>\n      <td>-6.133553e+01</td>\n      <td>4.392103e+01</td>\n      <td>3.526282e+06</td>\n    </tr>\n  </tbody>\n</table>\n</div>"
          },
          "metadata": {}
        }
      ]
    },
    {
      "metadata": {
        "_uuid": "c743cbcec9e47ff34b86ff2b697d74d694926317"
      },
      "cell_type": "markdown",
      "source": "We may need to apply scaling to trip_duration"
    },
    {
      "metadata": {
        "trusted": true,
        "_uuid": "4640d0861b2341265e6e902bd21db5861c043bef",
        "scrolled": false
      },
      "cell_type": "code",
      "source": "plt.subplots(figsize=(18,7))\nplt.title(\"Répartition des outliers\")\ntrain.boxplot();",
      "execution_count": 43,
      "outputs": [
        {
          "output_type": "display_data",
          "data": {
            "text/plain": "<Figure size 1296x504 with 1 Axes>",
            "image/png": "[encoded data removed]"
          },
          "metadata": {}
        }
      ]
    },
    {
      "metadata": {
        "trusted": true,
        "_uuid": "c9295fb54680f8cfe3de9ae888e0b93e37d400fd",
        "scrolled": true
      },
      "cell_type": "code",
      "source": "print(train.loc[train['trip_duration'] > 500000])",
      "execution_count": 44,
      "outputs": [
        {
          "output_type": "stream",
          "text": "               id  vendor_id      ...      store_and_fwd_flag trip_duration\n355003  id1864733          1      ...                       N       1939736\n680594  id0369307          1      ...                       N       2049578\n924150  id1325766          1      ...                       N       2227612\n978383  id0053347          1      ...                       N       3526282\n\n[4 rows x 11 columns]\n",
          "name": "stdout"
        }
      ]
    },
    {
      "metadata": {
        "_uuid": "9fe5b4d53bcad8cd720aaef71ff378ae44eb4dad"
      },
      "cell_type": "markdown",
      "source": "Four entries seems to outlie. Four entries is a very small amount of entries compare to the numbers of entries of the training set (1458644). This means that we can delete this four entries."
    },
    {
      "metadata": {
        "trusted": true,
        "_uuid": "b62d5d5bf2418a0bbf0f257c8c230104a9ce34a2"
      },
      "cell_type": "code",
      "source": "print(f\"training set shape : {train.shape}\")\ntrain = train.loc[train['trip_duration']< 500000]\nprint(f\"training set shape : {train.shape}\")",
      "execution_count": 45,
      "outputs": [
        {
          "output_type": "stream",
          "text": "training set shape : (1458644, 11)\ntraining set shape : (1458640, 11)\n",
          "name": "stdout"
        }
      ]
    },
    {
      "metadata": {
        "_uuid": "158ccc5ad208273141b339579a4617ab7ab5862a"
      },
      "cell_type": "markdown",
      "source": "Check if there is correlation with correlation heatmap"
    },
    {
      "metadata": {
        "trusted": true,
        "_uuid": "9fa5ae31eed76390c4bff0f163fa4825018918c7"
      },
      "cell_type": "code",
      "source": "corr = train.corr()\nsns.heatmap(corr)",
      "execution_count": 46,
      "outputs": [
        {
          "output_type": "execute_result",
          "execution_count": 46,
          "data": {
            "text/plain": "<matplotlib.axes._subplots.AxesSubplot at 0x7f3498284f28>"
          },
          "metadata": {}
        },
        {
          "output_type": "display_data",
          "data": {
            "text/plain": "<Figure size 432x288 with 2 Axes>",
            "image/png": "[encoded data removed]"
          },
          "metadata": {}
        }
      ]
    },
    {
      "metadata": {
        "_uuid": "296032c138c423d697d4b70ad5ee61d06dafdda2"
      },
      "cell_type": "markdown",
      "source": "There is not significant correlation"
    },
    {
      "metadata": {
        "_uuid": "2351752b96f57cb85fa50e60bfefca425fc1e0d8"
      },
      "cell_type": "markdown",
      "source": "### Categorical data \n"
    },
    {
      "metadata": {
        "trusted": true,
        "_uuid": "effe76bd2c85eb31c75f8accd05a6ce234505ced"
      },
      "cell_type": "code",
      "source": "le = LabelEncoder()\nle.fit(train['store_and_fwd_flag'])\ntrain['store_and_fwd_flag'] = le.transform(train['store_and_fwd_flag'])\ntest['store_and_fwd_flag'] = le.transform(test['store_and_fwd_flag'])\ntrain.head()",
      "execution_count": 47,
      "outputs": [
        {
          "output_type": "execute_result",
          "execution_count": 47,
          "data": {
            "text/plain": "          id  vendor_id      ...      store_and_fwd_flag trip_duration\n0  id2875421          2      ...                       0           455\n1  id2377394          1      ...                       0           663\n2  id3858529          2      ...                       0          2124\n3  id3504673          2      ...                       0           429\n4  id2181028          2      ...                       0           435\n\n[5 rows x 11 columns]",
            "text/html": "<div>\n<style scoped>\n    .dataframe tbody tr th:only-of-type {\n        vertical-align: middle;\n    }\n\n    .dataframe tbody tr th {\n        vertical-align: top;\n    }\n\n    .dataframe thead th {\n        text-align: right;\n    }\n</style>\n<table border=\"1\" class=\"dataframe\">\n  <thead>\n    <tr style=\"text-align: right;\">\n      <th></th>\n      <th>id</th>\n      <th>vendor_id</th>\n      <th>pickup_datetime</th>\n      <th>dropoff_datetime</th>\n      <th>passenger_count</th>\n      <th>pickup_longitude</th>\n      <th>pickup_latitude</th>\n      <th>dropoff_longitude</th>\n      <th>dropoff_latitude</th>\n      <th>store_and_fwd_flag</th>\n      <th>trip_duration</th>\n    </tr>\n  </thead>\n  <tbody>\n    <tr>\n      <th>0</th>\n      <td>id2875421</td>\n      <td>2</td>\n      <td>2016-03-14 17:24:55</td>\n      <td>2016-03-14 17:32:30</td>\n      <td>1</td>\n      <td>-73.982155</td>\n      <td>40.767937</td>\n      <td>-73.964630</td>\n      <td>40.765602</td>\n      <td>0</td>\n      <td>455</td>\n    </tr>\n    <tr>\n      <th>1</th>\n      <td>id2377394</td>\n      <td>1</td>\n      <td>2016-06-12 00:43:35</td>\n      <td>2016-06-12 00:54:38</td>\n      <td>1</td>\n      <td>-73.980415</td>\n      <td>40.738564</td>\n      <td>-73.999481</td>\n      <td>40.731152</td>\n      <td>0</td>\n      <td>663</td>\n    </tr>\n    <tr>\n      <th>2</th>\n      <td>id3858529</td>\n      <td>2</td>\n      <td>2016-01-19 11:35:24</td>\n      <td>2016-01-19 12:10:48</td>\n      <td>1</td>\n      <td>-73.979027</td>\n      <td>40.763939</td>\n      <td>-74.005333</td>\n      <td>40.710087</td>\n      <td>0</td>\n      <td>2124</td>\n    </tr>\n    <tr>\n      <th>3</th>\n      <td>id3504673</td>\n      <td>2</td>\n      <td>2016-04-06 19:32:31</td>\n      <td>2016-04-06 19:39:40</td>\n      <td>1</td>\n      <td>-74.010040</td>\n      <td>40.719971</td>\n      <td>-74.012268</td>\n      <td>40.706718</td>\n      <td>0</td>\n      <td>429</td>\n    </tr>\n    <tr>\n      <th>4</th>\n      <td>id2181028</td>\n      <td>2</td>\n      <td>2016-03-26 13:30:55</td>\n      <td>2016-03-26 13:38:10</td>\n      <td>1</td>\n      <td>-73.973053</td>\n      <td>40.793209</td>\n      <td>-73.972923</td>\n      <td>40.782520</td>\n      <td>0</td>\n      <td>435</td>\n    </tr>\n  </tbody>\n</table>\n</div>"
          },
          "metadata": {}
        }
      ]
    },
    {
      "metadata": {
        "_uuid": "7e3067a93e7cc125f2c76273a24d80305b8af68a"
      },
      "cell_type": "markdown",
      "source": " ### Transforming data"
    },
    {
      "metadata": {
        "trusted": true,
        "_uuid": "6b4868d4412cd8e1140356899a881af812f20305"
      },
      "cell_type": "code",
      "source": "plt.subplots(figsize=(10,6))\nplt.hist(train.trip_duration, bins=100)\nplt.xlabel('trip_duration')\nplt.ylabel('Frequency')\nplt.show()",
      "execution_count": 48,
      "outputs": [
        {
          "output_type": "display_data",
          "data": {
            "text/plain": "<Figure size 720x432 with 1 Axes>",
            "image/png": "[encoded data removed]"
          },
          "metadata": {}
        }
      ]
    },
    {
      "metadata": {
        "trusted": true,
        "_uuid": "170eabe34ff55399f95eb0d839394b2d8b07bb0c"
      },
      "cell_type": "code",
      "source": "#Log transformation\nplt.subplots(figsize=(10,6))\ntrain['trip_duration'] = np.log1p(train['trip_duration'].values) \nplt.hist(train.trip_duration.values, bins=150)\nplt.xlabel('log(trip_duration+1)')\nplt.ylabel('Frequency')\nplt.show()",
      "execution_count": 49,
      "outputs": [
        {
          "output_type": "display_data",
          "data": {
            "text/plain": "<Figure size 720x432 with 1 Axes>",
            "image/png": "[encoded data removed]"
          },
          "metadata": {}
        }
      ]
    },
    {
      "metadata": {
        "_uuid": "5d1c938ddb027c33f66b69c8dc926c2dfdaa15f2"
      },
      "cell_type": "markdown",
      "source": "In this case, the log(1+x) function achieve to retrieve a bell shape distribution from a long train shape distribution. We will make sure to do the \"reciprocal function\" exp(x)-1 to do the submission"
    },
    {
      "metadata": {
        "_uuid": "9653e14b0b2daf6c988a0ccaaadec6ab2ce9b75e"
      },
      "cell_type": "markdown",
      "source": "## 4. Feature engineering"
    },
    {
      "metadata": {
        "_uuid": "0ce496edb64d744d252353bd2ac6156c85bc4d32"
      },
      "cell_type": "markdown",
      "source": "### Features extraction"
    },
    {
      "metadata": {
        "trusted": true,
        "_uuid": "c73ef27e9d7837a873f0a01502001419c8b1ef35"
      },
      "cell_type": "code",
      "source": "train.columns",
      "execution_count": 50,
      "outputs": [
        {
          "output_type": "execute_result",
          "execution_count": 50,
          "data": {
            "text/plain": "Index(['id', 'vendor_id', 'pickup_datetime', 'dropoff_datetime',\n       'passenger_count', 'pickup_longitude', 'pickup_latitude',\n       'dropoff_longitude', 'dropoff_latitude', 'store_and_fwd_flag',\n       'trip_duration'],\n      dtype='object')"
          },
          "metadata": {}
        }
      ]
    },
    {
      "metadata": {
        "_uuid": "42ce40a448865311f18fb84dbd569d638c3192b9"
      },
      "cell_type": "markdown",
      "source": "### Features creation "
    },
    {
      "metadata": {
        "trusted": true,
        "scrolled": false,
        "_uuid": "fb4549657e8ab13f3139f000d29b65cdca952179",
        "_kg_hide-input": false,
        "_kg_hide-output": true
      },
      "cell_type": "code",
      "source": "#### date features\n## dates\ntrain['pickup_datetime'] = pd.to_datetime(train['pickup_datetime'])\ntest['pickup_datetime'] = pd.to_datetime(test['pickup_datetime'])\n\ntrain['month'] = train['pickup_datetime'].dt.month\ntrain['day'] = train['pickup_datetime'].dt.day\ntrain['weekday'] = train['pickup_datetime'].dt.weekday\ntrain['hour'] = train['pickup_datetime'].dt.hour\ntrain['minute'] = train['pickup_datetime'].dt.minute\n\ntest['month'] = test['pickup_datetime'].dt.month\ntest['day'] = test['pickup_datetime'].dt.day\ntest['weekday'] = test['pickup_datetime'].dt.weekday\ntest['hour'] = test['pickup_datetime'].dt.hour\ntest['minute'] = test['pickup_datetime'].dt.minute\n\ntrain.head()\n",
      "execution_count": 51,
      "outputs": [
        {
          "output_type": "execute_result",
          "execution_count": 51,
          "data": {
            "text/plain": "          id  vendor_id     pickup_datetime   ...   weekday  hour  minute\n0  id2875421          2 2016-03-14 17:24:55   ...         0    17      24\n1  id2377394          1 2016-06-12 00:43:35   ...         6     0      43\n2  id3858529          2 2016-01-19 11:35:24   ...         1    11      35\n3  id3504673          2 2016-04-06 19:32:31   ...         2    19      32\n4  id2181028          2 2016-03-26 13:30:55   ...         5    13      30\n\n[5 rows x 16 columns]",
            "text/html": "<div>\n<style scoped>\n    .dataframe tbody tr th:only-of-type {\n        vertical-align: middle;\n    }\n\n    .dataframe tbody tr th {\n        vertical-align: top;\n    }\n\n    .dataframe thead th {\n        text-align: right;\n    }\n</style>\n<table border=\"1\" class=\"dataframe\">\n  <thead>\n    <tr style=\"text-align: right;\">\n      <th></th>\n      <th>id</th>\n      <th>vendor_id</th>\n      <th>pickup_datetime</th>\n      <th>dropoff_datetime</th>\n      <th>passenger_count</th>\n      <th>pickup_longitude</th>\n      <th>pickup_latitude</th>\n      <th>dropoff_longitude</th>\n      <th>dropoff_latitude</th>\n      <th>store_and_fwd_flag</th>\n      <th>trip_duration</th>\n      <th>month</th>\n      <th>day</th>\n      <th>weekday</th>\n      <th>hour</th>\n      <th>minute</th>\n    </tr>\n  </thead>\n  <tbody>\n    <tr>\n      <th>0</th>\n      <td>id2875421</td>\n      <td>2</td>\n      <td>2016-03-14 17:24:55</td>\n      <td>2016-03-14 17:32:30</td>\n      <td>1</td>\n      <td>-73.982155</td>\n      <td>40.767937</td>\n      <td>-73.964630</td>\n      <td>40.765602</td>\n      <td>0</td>\n      <td>6.122493</td>\n      <td>3</td>\n      <td>14</td>\n      <td>0</td>\n      <td>17</td>\n      <td>24</td>\n    </tr>\n    <tr>\n      <th>1</th>\n      <td>id2377394</td>\n      <td>1</td>\n      <td>2016-06-12 00:43:35</td>\n      <td>2016-06-12 00:54:38</td>\n      <td>1</td>\n      <td>-73.980415</td>\n      <td>40.738564</td>\n      <td>-73.999481</td>\n      <td>40.731152</td>\n      <td>0</td>\n      <td>6.498282</td>\n      <td>6</td>\n      <td>12</td>\n      <td>6</td>\n      <td>0</td>\n      <td>43</td>\n    </tr>\n    <tr>\n      <th>2</th>\n      <td>id3858529</td>\n      <td>2</td>\n      <td>2016-01-19 11:35:24</td>\n      <td>2016-01-19 12:10:48</td>\n      <td>1</td>\n      <td>-73.979027</td>\n      <td>40.763939</td>\n      <td>-74.005333</td>\n      <td>40.710087</td>\n      <td>0</td>\n      <td>7.661527</td>\n      <td>1</td>\n      <td>19</td>\n      <td>1</td>\n      <td>11</td>\n      <td>35</td>\n    </tr>\n    <tr>\n      <th>3</th>\n      <td>id3504673</td>\n      <td>2</td>\n      <td>2016-04-06 19:32:31</td>\n      <td>2016-04-06 19:39:40</td>\n      <td>1</td>\n      <td>-74.010040</td>\n      <td>40.719971</td>\n      <td>-74.012268</td>\n      <td>40.706718</td>\n      <td>0</td>\n      <td>6.063785</td>\n      <td>4</td>\n      <td>6</td>\n      <td>2</td>\n      <td>19</td>\n      <td>32</td>\n    </tr>\n    <tr>\n      <th>4</th>\n      <td>id2181028</td>\n      <td>2</td>\n      <td>2016-03-26 13:30:55</td>\n      <td>2016-03-26 13:38:10</td>\n      <td>1</td>\n      <td>-73.973053</td>\n      <td>40.793209</td>\n      <td>-73.972923</td>\n      <td>40.782520</td>\n      <td>0</td>\n      <td>6.077642</td>\n      <td>3</td>\n      <td>26</td>\n      <td>5</td>\n      <td>13</td>\n      <td>30</td>\n    </tr>\n  </tbody>\n</table>\n</div>"
          },
          "metadata": {}
        }
      ]
    },
    {
      "metadata": {
        "_uuid": "9af7b11312417688168fba91ba7662c1594a6f7a"
      },
      "cell_type": "markdown",
      "source": "### Features selection"
    },
    {
      "metadata": {
        "trusted": true,
        "_uuid": "98d891e792cf125701389c9d7bb8714098c66eb6"
      },
      "cell_type": "code",
      "source": "train.columns",
      "execution_count": 52,
      "outputs": [
        {
          "output_type": "execute_result",
          "execution_count": 52,
          "data": {
            "text/plain": "Index(['id', 'vendor_id', 'pickup_datetime', 'dropoff_datetime',\n       'passenger_count', 'pickup_longitude', 'pickup_latitude',\n       'dropoff_longitude', 'dropoff_latitude', 'store_and_fwd_flag',\n       'trip_duration', 'month', 'day', 'weekday', 'hour', 'minute'],\n      dtype='object')"
          },
          "metadata": {}
        }
      ]
    },
    {
      "metadata": {
        "trusted": true,
        "_uuid": "9af9d6eabfe1b0dfb8262846724619d4056a197c"
      },
      "cell_type": "code",
      "source": "selection_train = [\"passenger_count\", \"pickup_longitude\", \"pickup_latitude\", \"dropoff_longitude\",\"dropoff_latitude\",\"month\", \"day\", \"weekday\", \"hour\", \"minute\"]\nselection_test = [\"passenger_count\", \"pickup_longitude\", \"pickup_latitude\", \"dropoff_longitude\",\"dropoff_latitude\", \"month\", \"day\", \"weekday\", \"hour\", \"minute\"]\n\n#selection_train = [\"passenger_count\",\"month\", \"day\", \"weekday\", \"hour\", \"minute\"]\n#selection_test = [\"passenger_count\", \"month\", \"day\", \"weekday\", \"hour\", \"minute\"]\n\ny_train = train[\"trip_duration\"] # TARGET\nX_train = train[selection_train] # FEATURES\nX_test = test[selection_test]",
      "execution_count": 53,
      "outputs": []
    },
    {
      "metadata": {
        "_uuid": "1a55ac54db176c6db1a5bafd46eca99736d929ad"
      },
      "cell_type": "markdown",
      "source": "Scaling tests"
    },
    {
      "metadata": {
        "trusted": true,
        "_uuid": "66f700be9aa767a32ad74a2a314a798d28fbb091"
      },
      "cell_type": "code",
      "source": "scaler = StandardScaler()\nX_train_scaled = scaler.fit_transform(X_train)\nX_test_scaled = scaler.transform(X_test) ",
      "execution_count": 54,
      "outputs": [
        {
          "output_type": "stream",
          "text": "/opt/conda/lib/python3.6/site-packages/sklearn/preprocessing/data.py:625: DataConversionWarning: Data with input dtype int64, float64 were all converted to float64 by StandardScaler.\n  return self.partial_fit(X, y)\n/opt/conda/lib/python3.6/site-packages/sklearn/base.py:462: DataConversionWarning: Data with input dtype int64, float64 were all converted to float64 by StandardScaler.\n  return self.fit(X, **fit_params).transform(X)\n/opt/conda/lib/python3.6/site-packages/ipykernel_launcher.py:3: DataConversionWarning: Data with input dtype int64, float64 were all converted to float64 by StandardScaler.\n  This is separate from the ipykernel package so we can avoid doing imports until\n",
          "name": "stderr"
        }
      ]
    },
    {
      "metadata": {
        "trusted": true,
        "_uuid": "9190d072067f796cfb2ae79afbb4c77037f8b397"
      },
      "cell_type": "code",
      "source": "X_train.shape, X_test.shape, y_train.shape",
      "execution_count": 55,
      "outputs": [
        {
          "output_type": "execute_result",
          "execution_count": 55,
          "data": {
            "text/plain": "((1458640, 10), (625134, 10), (1458640,))"
          },
          "metadata": {}
        }
      ]
    },
    {
      "metadata": {
        "trusted": true,
        "_uuid": "eeca6034ccb0edeba7b3a56c6abb6acb9e0d9991"
      },
      "cell_type": "code",
      "source": "y_train.head(5)",
      "execution_count": 56,
      "outputs": [
        {
          "output_type": "execute_result",
          "execution_count": 56,
          "data": {
            "text/plain": "0    6.122493\n1    6.498282\n2    7.661527\n3    6.063785\n4    6.077642\nName: trip_duration, dtype: float64"
          },
          "metadata": {}
        }
      ]
    },
    {
      "metadata": {
        "trusted": true,
        "_uuid": "1a2f4c27d64f3b7a67110b3b8375f2fa69ad6510"
      },
      "cell_type": "code",
      "source": "X_train.head(5)",
      "execution_count": 57,
      "outputs": [
        {
          "output_type": "execute_result",
          "execution_count": 57,
          "data": {
            "text/plain": "   passenger_count  pickup_longitude   ...    hour  minute\n0                1        -73.982155   ...      17      24\n1                1        -73.980415   ...       0      43\n2                1        -73.979027   ...      11      35\n3                1        -74.010040   ...      19      32\n4                1        -73.973053   ...      13      30\n\n[5 rows x 10 columns]",
            "text/html": "<div>\n<style scoped>\n    .dataframe tbody tr th:only-of-type {\n        vertical-align: middle;\n    }\n\n    .dataframe tbody tr th {\n        vertical-align: top;\n    }\n\n    .dataframe thead th {\n        text-align: right;\n    }\n</style>\n<table border=\"1\" class=\"dataframe\">\n  <thead>\n    <tr style=\"text-align: right;\">\n      <th></th>\n      <th>passenger_count</th>\n      <th>pickup_longitude</th>\n      <th>pickup_latitude</th>\n      <th>dropoff_longitude</th>\n      <th>dropoff_latitude</th>\n      <th>month</th>\n      <th>day</th>\n      <th>weekday</th>\n      <th>hour</th>\n      <th>minute</th>\n    </tr>\n  </thead>\n  <tbody>\n    <tr>\n      <th>0</th>\n      <td>1</td>\n      <td>-73.982155</td>\n      <td>40.767937</td>\n      <td>-73.964630</td>\n      <td>40.765602</td>\n      <td>3</td>\n      <td>14</td>\n      <td>0</td>\n      <td>17</td>\n      <td>24</td>\n    </tr>\n    <tr>\n      <th>1</th>\n      <td>1</td>\n      <td>-73.980415</td>\n      <td>40.738564</td>\n      <td>-73.999481</td>\n      <td>40.731152</td>\n      <td>6</td>\n      <td>12</td>\n      <td>6</td>\n      <td>0</td>\n      <td>43</td>\n    </tr>\n    <tr>\n      <th>2</th>\n      <td>1</td>\n      <td>-73.979027</td>\n      <td>40.763939</td>\n      <td>-74.005333</td>\n      <td>40.710087</td>\n      <td>1</td>\n      <td>19</td>\n      <td>1</td>\n      <td>11</td>\n      <td>35</td>\n    </tr>\n    <tr>\n      <th>3</th>\n      <td>1</td>\n      <td>-74.010040</td>\n      <td>40.719971</td>\n      <td>-74.012268</td>\n      <td>40.706718</td>\n      <td>4</td>\n      <td>6</td>\n      <td>2</td>\n      <td>19</td>\n      <td>32</td>\n    </tr>\n    <tr>\n      <th>4</th>\n      <td>1</td>\n      <td>-73.973053</td>\n      <td>40.793209</td>\n      <td>-73.972923</td>\n      <td>40.782520</td>\n      <td>3</td>\n      <td>26</td>\n      <td>5</td>\n      <td>13</td>\n      <td>30</td>\n    </tr>\n  </tbody>\n</table>\n</div>"
          },
          "metadata": {}
        }
      ]
    },
    {
      "metadata": {
        "trusted": true,
        "_uuid": "d5d2c3afb8fa797218985c138ba0f24ce63df07b"
      },
      "cell_type": "code",
      "source": "X_test.head(5)",
      "execution_count": 58,
      "outputs": [
        {
          "output_type": "execute_result",
          "execution_count": 58,
          "data": {
            "text/plain": "   passenger_count  pickup_longitude   ...    hour  minute\n0                1        -73.988129   ...      23      59\n1                1        -73.964203   ...      23      59\n2                1        -73.997437   ...      23      59\n3                1        -73.956070   ...      23      59\n4                1        -73.970215   ...      23      59\n\n[5 rows x 10 columns]",
            "text/html": "<div>\n<style scoped>\n    .dataframe tbody tr th:only-of-type {\n        vertical-align: middle;\n    }\n\n    .dataframe tbody tr th {\n        vertical-align: top;\n    }\n\n    .dataframe thead th {\n        text-align: right;\n    }\n</style>\n<table border=\"1\" class=\"dataframe\">\n  <thead>\n    <tr style=\"text-align: right;\">\n      <th></th>\n      <th>passenger_count</th>\n      <th>pickup_longitude</th>\n      <th>pickup_latitude</th>\n      <th>dropoff_longitude</th>\n      <th>dropoff_latitude</th>\n      <th>month</th>\n      <th>day</th>\n      <th>weekday</th>\n      <th>hour</th>\n      <th>minute</th>\n    </tr>\n  </thead>\n  <tbody>\n    <tr>\n      <th>0</th>\n      <td>1</td>\n      <td>-73.988129</td>\n      <td>40.732029</td>\n      <td>-73.990173</td>\n      <td>40.756680</td>\n      <td>6</td>\n      <td>30</td>\n      <td>3</td>\n      <td>23</td>\n      <td>59</td>\n    </tr>\n    <tr>\n      <th>1</th>\n      <td>1</td>\n      <td>-73.964203</td>\n      <td>40.679993</td>\n      <td>-73.959808</td>\n      <td>40.655403</td>\n      <td>6</td>\n      <td>30</td>\n      <td>3</td>\n      <td>23</td>\n      <td>59</td>\n    </tr>\n    <tr>\n      <th>2</th>\n      <td>1</td>\n      <td>-73.997437</td>\n      <td>40.737583</td>\n      <td>-73.986160</td>\n      <td>40.729523</td>\n      <td>6</td>\n      <td>30</td>\n      <td>3</td>\n      <td>23</td>\n      <td>59</td>\n    </tr>\n    <tr>\n      <th>3</th>\n      <td>1</td>\n      <td>-73.956070</td>\n      <td>40.771900</td>\n      <td>-73.986427</td>\n      <td>40.730469</td>\n      <td>6</td>\n      <td>30</td>\n      <td>3</td>\n      <td>23</td>\n      <td>59</td>\n    </tr>\n    <tr>\n      <th>4</th>\n      <td>1</td>\n      <td>-73.970215</td>\n      <td>40.761475</td>\n      <td>-73.961510</td>\n      <td>40.755890</td>\n      <td>6</td>\n      <td>30</td>\n      <td>3</td>\n      <td>23</td>\n      <td>59</td>\n    </tr>\n  </tbody>\n</table>\n</div>"
          },
          "metadata": {}
        }
      ]
    },
    {
      "metadata": {
        "_uuid": "1f402f7a5229e0adb1fd62db25794756f0c881bb"
      },
      "cell_type": "markdown",
      "source": "## 5. Validation"
    },
    {
      "metadata": {
        "trusted": true,
        "_uuid": "a401becb3ddb65e5d0634b210603a2faf5e163be"
      },
      "cell_type": "code",
      "source": "m1 = RandomForestRegressor()\n#m1_scaled = RandomForestRegressor()",
      "execution_count": 59,
      "outputs": []
    },
    {
      "metadata": {
        "trusted": true,
        "_uuid": "2b0ebcac408794d2d4b70ed68c51a55a54c7c680",
        "scrolled": false
      },
      "cell_type": "code",
      "source": "#print(\"Start cross validation ...\")\n#m1_scores = cross_val_score(m1, X_train, y_train, cv=5, scoring =\"neg_mean_squared_log_error\")\n#m1_scores = cross_val_score(m1_scaled, X_train, y_train, cv=5, scoring =\"neg_mean_squared_log_error\")",
      "execution_count": 60,
      "outputs": []
    },
    {
      "metadata": {
        "trusted": true,
        "_uuid": "b28d0d0e7cc31699b96b2b1b46dde948074f2488"
      },
      "cell_type": "code",
      "source": "#for i in range(len(m1_scores)):\n#    m1_scores[i] = np.sqrt(abs(m1_scores[i]))\n#print(m1_scores)\n#pd.DataFrame(m1_scores).mean(), pd.DataFrame(m1_scores).std()\n",
      "execution_count": 61,
      "outputs": []
    },
    {
      "metadata": {
        "_uuid": "13a79ae2c31870073f9f2c4f684a42d523996284"
      },
      "cell_type": "markdown",
      "source": "## 7. Training"
    },
    {
      "metadata": {
        "trusted": true,
        "_uuid": "8c205ad5191a1bd46894ca02f31c2a9570701402"
      },
      "cell_type": "code",
      "source": "print(\"Start Training ...\")\nm1.fit(X_train, y_train)\n#m1_scaled.fit(X_train_scaled, y_train)",
      "execution_count": 62,
      "outputs": [
        {
          "output_type": "stream",
          "text": "Start Training ...\n",
          "name": "stdout"
        },
        {
          "output_type": "execute_result",
          "execution_count": 62,
          "data": {
            "text/plain": "RandomForestRegressor(bootstrap=True, criterion='mse', max_depth=None,\n           max_features='auto', max_leaf_nodes=None,\n           min_impurity_decrease=0.0, min_impurity_split=None,\n           min_samples_leaf=1, min_samples_split=2,\n           min_weight_fraction_leaf=0.0, n_estimators=18, n_jobs=None,\n           oob_score=False, random_state=None, verbose=0, warm_start=False)"
          },
          "metadata": {}
        }
      ]
    },
    {
      "metadata": {
        "_uuid": "909f2fc9123cefec1446cb0a597fc1fc5d9ea6ed"
      },
      "cell_type": "markdown",
      "source": "## 8. Predictions"
    },
    {
      "metadata": {
        "trusted": true,
        "_uuid": "cb821277b607edf3303ef2ebd257ea225fe33984",
        "scrolled": false
      },
      "cell_type": "code",
      "source": "y_pred = m1.predict(X_test)\n#y_pred_scaled = m1_scaled.predict(X_test_scaled)",
      "execution_count": 63,
      "outputs": []
    },
    {
      "metadata": {
        "_uuid": "2d6f2a57eac221d7215e49b57d61b09cbd2c2249"
      },
      "cell_type": "markdown",
      "source": "## 9. Submit"
    },
    {
      "metadata": {
        "trusted": true,
        "_uuid": "d7ce98ae4930beea2deead15b2d1820be456bdf0"
      },
      "cell_type": "code",
      "source": "#my_submission = pd.DataFrame({'id': test.id, 'trip_duration': y_pred})\n#my_submission = pd.DataFrame({'id': test.id, 'trip_duration': y_pred_scaled})\nmy_submission = pd.DataFrame({'id': test.id, 'trip_duration': np.expm1(y_pred)})\n\n\nmy_submission.head()",
      "execution_count": 66,
      "outputs": [
        {
          "output_type": "execute_result",
          "execution_count": 66,
          "data": {
            "text/plain": "          id  trip_duration\n0  id3004672     784.447796\n1  id3505355     711.308079\n2  id1217141     704.334452\n3  id2150126    1095.332004\n4  id1598245     495.916702",
            "text/html": "<div>\n<style scoped>\n    .dataframe tbody tr th:only-of-type {\n        vertical-align: middle;\n    }\n\n    .dataframe tbody tr th {\n        vertical-align: top;\n    }\n\n    .dataframe thead th {\n        text-align: right;\n    }\n</style>\n<table border=\"1\" class=\"dataframe\">\n  <thead>\n    <tr style=\"text-align: right;\">\n      <th></th>\n      <th>id</th>\n      <th>trip_duration</th>\n    </tr>\n  </thead>\n  <tbody>\n    <tr>\n      <th>0</th>\n      <td>id3004672</td>\n      <td>784.447796</td>\n    </tr>\n    <tr>\n      <th>1</th>\n      <td>id3505355</td>\n      <td>711.308079</td>\n    </tr>\n    <tr>\n      <th>2</th>\n      <td>id1217141</td>\n      <td>704.334452</td>\n    </tr>\n    <tr>\n      <th>3</th>\n      <td>id2150126</td>\n      <td>1095.332004</td>\n    </tr>\n    <tr>\n      <th>4</th>\n      <td>id1598245</td>\n      <td>495.916702</td>\n    </tr>\n  </tbody>\n</table>\n</div>"
          },
          "metadata": {}
        }
      ]
    },
    {
      "metadata": {
        "trusted": true,
        "_uuid": "8557fba1219ecc9c9abdbf0ed7f7a5bf360cf97d"
      },
      "cell_type": "code",
      "source": "my_submission.to_csv('submission.csv', index=False)\nprint(\"Submission done !\")",
      "execution_count": null,
      "outputs": []
    },
    {
      "metadata": {
        "_uuid": "f673cf0c7a8b5373d2f9e97e4ddbfc2ad897a029"
      },
      "cell_type": "markdown",
      "source": "Thanks\n- Categorical feature handling with Label Encoder method // Danijel Kivaranovic https://www.kaggle.com/danijelk"
    }
  ],
  "metadata": {
    "kernelspec": {
      "display_name": "Python 3",
      "language": "python",
      "name": "python3"
    },
    "language_info": {
      "name": "python",
      "version": "3.6.6",
      "mimetype": "text/x-python",
      "codemirror_mode": {
        "name": "ipython",
        "version": 3
      },
      "pygments_lexer": "ipython3",
      "nbconvert_exporter": "python",
      "file_extension": ".py"
    }
  },
  "nbformat": 4,
  "nbformat_minor": 1
}